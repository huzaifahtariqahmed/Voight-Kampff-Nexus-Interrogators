{
 "cells": [
  {
   "cell_type": "code",
   "execution_count": 1,
   "id": "3dfb49f4",
   "metadata": {},
   "outputs": [],
   "source": [
    "model_name = \"tabularisai/multilingual-sentiment-analysis\""
   ]
  },
  {
   "cell_type": "code",
   "execution_count": 5,
   "id": "457689ed",
   "metadata": {},
   "outputs": [],
   "source": [
    "train_df = \"/home/zs07752/sub_task2/data/train.jsonl\"\n",
    "val_df = \"/home/zs07752/sub_task2/data/val.jsonl\""
   ]
  },
  {
   "cell_type": "code",
   "execution_count": 10,
   "id": "a0310fe3",
   "metadata": {},
   "outputs": [
    {
     "name": "stdout",
     "output_type": "stream",
     "text": [
      "Traceback (most recent call last):\n",
      "  File \"/home/zs07752/Voight-Kampff-Nexus-Interrogators/baseline.py\", line 174, in <module>\n",
      "    fine_tune(train_df[['text', 'label']], valid_df[['text', 'label']], f\"{model}_clef/{random_seed}\", id2label, label2id, model)\n",
      "  File \"/home/zs07752/Voight-Kampff-Nexus-Interrogators/baseline.py\", line 46, in fine_tune\n",
      "    model = AutoModelForSequenceClassification.from_pretrained(\n",
      "            ^^^^^^^^^^^^^^^^^^^^^^^^^^^^^^^^^^^^^^^^^^^^^^^^^^^\n",
      "  File \"/home/zs07752/anaconda3/envs/llm/lib/python3.12/site-packages/transformers/models/auto/auto_factory.py\", line 564, in from_pretrained\n",
      "    return model_class.from_pretrained(\n",
      "           ^^^^^^^^^^^^^^^^^^^^^^^^^^^^\n",
      "  File \"/home/zs07752/anaconda3/envs/llm/lib/python3.12/site-packages/transformers/modeling_utils.py\", line 262, in _wrapper\n",
      "    return func(*args, **kwargs)\n",
      "           ^^^^^^^^^^^^^^^^^^^^^\n",
      "  File \"/home/zs07752/anaconda3/envs/llm/lib/python3.12/site-packages/transformers/modeling_utils.py\", line 4319, in from_pretrained\n",
      "    ) = cls._load_pretrained_model(\n",
      "        ^^^^^^^^^^^^^^^^^^^^^^^^^^^\n",
      "  File \"/home/zs07752/anaconda3/envs/llm/lib/python3.12/site-packages/transformers/modeling_utils.py\", line 4955, in _load_pretrained_model\n",
      "    raise RuntimeError(f\"Error(s) in loading state_dict for {model.__class__.__name__}:\\n\\t{error_msg}\")\n",
      "RuntimeError: Error(s) in loading state_dict for DistilBertForSequenceClassification:\n",
      "\tsize mismatch for classifier.weight: copying a param with shape torch.Size([5, 768]) from checkpoint, the shape in current model is torch.Size([6, 768]).\n",
      "\tsize mismatch for classifier.bias: copying a param with shape torch.Size([5]) from checkpoint, the shape in current model is torch.Size([6]).\n",
      "\tYou may consider adding `ignore_mismatched_sizes=True` in the model `from_pretrained` method.\n"
     ]
    }
   ],
   "source": [
    "!python baseline.py --train_file_path \"/home/zs07752/sub_task2/data/train.jsonl\" --dev_file_path \"/home/zs07752/sub_task2/data/val.jsonl\" --model \"tabularisai/multilingual-sentiment-analysis\" --prediction_file_path prediction_subtask2.csv --test_file_path \"/home/zs07752/sub_task2/data/val.jsonl\""
   ]
  }
 ],
 "metadata": {
  "kernelspec": {
   "display_name": "llm",
   "language": "python",
   "name": "python3"
  },
  "language_info": {
   "codemirror_mode": {
    "name": "ipython",
    "version": 3
   },
   "file_extension": ".py",
   "mimetype": "text/x-python",
   "name": "python",
   "nbconvert_exporter": "python",
   "pygments_lexer": "ipython3",
   "version": "3.12.9"
  }
 },
 "nbformat": 4,
 "nbformat_minor": 5
}
